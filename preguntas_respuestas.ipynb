{
 "cells": [
  {
   "cell_type": "markdown",
   "metadata": {},
   "source": [
    "# Preguntas y Respuestas\n",
    "\n",
    "\n",
    "- Reglas del Juego de \"Preguntas y Respuestas de Geografía\":\n",
    "    - El juego consiste en hacer preguntas de geografía y que el jugador adivine la respuesta correcta.\n",
    "\n",
    "    - Cada pregunta tiene una respuesta única y correcta.\n",
    "\n",
    "    - El jugador tiene un número limitado de intentos para responder correctamente a cada pregunta.\n",
    "\n",
    "    - El juego sigue hasta que el jugador responda incorrectamente 3 de veces o haya respondido 5 preguntas correctamente.\n",
    "\n",
    "\n",
    "- Pistas para las alumnas:\n",
    "\n",
    "    1. Comienza creando un diccionario que contenga preguntas de geografía como claves y respuestas como valores.\n",
    "\n",
    "    2. Implementa una función para seleccionar una pregunta aleatoria del diccionario.\n",
    "\n",
    "    3. Utiliza un bucle `while` para hacer preguntas de geografía hasta que el jugador responda un número específico de preguntas correctamente o alcance un número máximo de respuestas incorrectas.\n",
    "\n",
    "    4. Dentro del bucle, presenta la pregunta al jugador y permita que ingresen sus respuestas.\n",
    "\n",
    "    5. Lleva un seguimiento del número de preguntas realizadas y el número de respuestas correctas.\n",
    "\n",
    "    6. Determina las condiciones de victoria y derrota del juego y sal del bucle cuando se cumplan estas condiciones."
   ]
  },
  {
   "cell_type": "markdown",
   "metadata": {},
   "source": [
    "¿Cuál de las siguientes mujeres es una científica española reconocida mundialmente? C\n",
    "a) Montserrat Caballé. b) Ana María Matute. c) Margarita Salas\n",
    "\n",
    "María Zambrano, María Teresa León y Rosa Chacel son… B\n",
    "a) pintoras. b) escritoras. c) deportistas.\n",
    "\n",
    "¿Cuál es la profesión de Sara Baras? B\n",
    "a) Escritora. b) Bailaora. c) Escultora.\n",
    "\n",
    "Isabel Coixet es una… C \n",
    "a) cantante pop. b) bailarina clásica. c) directora de cine.\n",
    "\n",
    "Una de las sopranos españolas más famosa es... A\n",
    "a) Montserrat Caballé b) Rosalía. c) Lola Flores."
   ]
  },
  {
   "cell_type": "code",
   "execution_count": 1,
   "metadata": {},
   "outputs": [],
   "source": [
    "import random"
   ]
  },
  {
   "cell_type": "code",
   "execution_count": 2,
   "metadata": {},
   "outputs": [],
   "source": [
    "preguntas_respuestas = {\"¿Cuál de las siguientes mujeres es una científica española reconocida mundialmente?\":[\"a) Montserrat Caballé\", \"b) Ana María Matute\", \"c) Margarita Salas\", \"c\"], \n",
    "\"María Zambrano, María Teresa León y Rosa Chacel son…\":[\"a) pintoras\", \"b) escritoras\", \"c) deportistas\", \"b\"], \n",
    "\"¿Cuál es la profesión de Sara Baras?\":[\"a) Escritora\", \"b) Bailaora\", \"c) Escultora\", \"b\"], \n",
    "\"Isabel Coixet es una…\":[\"a) cantante pop\", \"b) bailarina clásica\", \"c) directora de cine\", \"c\"], \n",
    "\"Una de las sopranos españolas más famosa es...\":[\"a) Montserrat Caballé\", \"b) Rosalía\", \"c) Lola Flores\", \"a\"]}"
   ]
  },
  {
   "cell_type": "code",
   "execution_count": 12,
   "metadata": {},
   "outputs": [
    {
     "name": "stdout",
     "output_type": "stream",
     "text": [
      "*** PREGUNTAS SOBRE MUJERES IMPORTANTES DE NUESTRO PAÍS ***\n",
      "------------------------------------------------------------------------------------------------------------------------ \n",
      "\n",
      "María Zambrano, María Teresa León y Rosa Chacel son…\n",
      "------------------------------------------------------------------------------------------------------------------------\n",
      "a) pintoras\t\tb) escritoras\t\tc) deportistas\t\tresp correcta: b, resp jugador: a.\n",
      "\n",
      "La respuesta correcta es b. Tienes 1 fallo(s).\n",
      "\n",
      "\n",
      "¿Cuál de las siguientes mujeres es una científica española reconocida mundialmente?\n",
      "------------------------------------------------------------------------------------------------------------------------\n",
      "a) Montserrat Caballé\t\tb) Ana María Matute\t\tc) Margarita Salas\t\tresp correcta: c, resp jugador: c.\n",
      "\n",
      "Muy bien, la respuesta correcta es c. Tienes 1 acierto(s).\n",
      "\n",
      "\n",
      "¿Cuál es la profesión de Sara Baras?\n",
      "------------------------------------------------------------------------------------------------------------------------\n",
      "a) Escritora\t\tb) Bailaora\t\tc) Escultora\t\tresp correcta: b, resp jugador: c.\n",
      "\n",
      "La respuesta correcta es b. Tienes 2 fallo(s).\n",
      "\n",
      "\n",
      "Una de las sopranos españolas más famosa es...\n",
      "------------------------------------------------------------------------------------------------------------------------\n",
      "a) Montserrat Caballé\t\tb) Rosalía\t\tc) Lola Flores\t\tresp correcta: a, resp jugador: b.\n",
      "\n",
      "La respuesta correcta es a. Tienes 3 fallo(s).\n",
      "\n",
      "\n",
      "Ooohhhh qué pena, perdiste. ¡No te rindas! Inténtalo de nuevo!\n"
     ]
    }
   ],
   "source": [
    "print(\"*** PREGUNTAS SOBRE MUJERES IMPORTANTES DE NUESTRO PAÍS ***\")\n",
    "print(\"----\" *30,\"\\n\")\n",
    "\n",
    "numero_total_intentos = 5\n",
    "# Si tiene 3 aciertos ganas y si tienes 3 fallos pierdes.\n",
    "aciertos = 0\n",
    "errores = 0\n",
    "\n",
    "while True:\n",
    "    pregunta = (random.choice(list(preguntas_respuestas.keys())))\n",
    "    print(pregunta)\n",
    "    print(\"----\" *30)\n",
    "\n",
    "    for clave, valor in preguntas_respuestas.items():\n",
    "        if clave == pregunta:\n",
    "            respuesta_correcta = valor[-1]\n",
    "            respuestas = valor[:3]\n",
    "            for i in respuestas:\n",
    "                print(i, end=\"\\t\\t\")\n",
    "        \n",
    "    respuesta_jugador = input(\"Cuál es la respuesta correcta? \").lower()\n",
    "\n",
    "    if respuesta_jugador in \"abc\":\n",
    "\n",
    "        if respuesta_correcta == respuesta_jugador:\n",
    "            aciertos += 1\n",
    "            numero_total_intentos -= 1\n",
    "            print(f\"\\nMuy bien, la respuesta correcta es {respuesta_correcta}. Tienes {aciertos} acierto(s).\\n\\n\")\n",
    "\n",
    "        else:\n",
    "            errores += 1\n",
    "            numero_total_intentos -=1\n",
    "            print(f\"\\nLa respuesta correcta es {respuesta_correcta}. Tienes {errores} fallo(s).\\n\\n\")\n",
    "        \n",
    "    else:\n",
    "        print(\"Opción no válida, intenta otra vez.\")\n",
    "\n",
    "    if aciertos == 3:\n",
    "        print(\"¡Enhorabuena! Ganaste el juego.\")\n",
    "        break\n",
    "    elif errores == 3:\n",
    "        print(\"Ooohhhh qué pena, perdiste. ¡No te rindas! Inténtalo de nuevo!\")\n",
    "        break\n"
   ]
  },
  {
   "cell_type": "markdown",
   "metadata": {},
   "source": [
    "Para implementar: No se puede repetir la misma pregunta en un mismo juego. "
   ]
  },
  {
   "cell_type": "markdown",
   "metadata": {},
   "source": []
  }
 ],
 "metadata": {
  "kernelspec": {
   "display_name": "base",
   "language": "python",
   "name": "python3"
  },
  "language_info": {
   "codemirror_mode": {
    "name": "ipython",
    "version": 3
   },
   "file_extension": ".py",
   "mimetype": "text/x-python",
   "name": "python",
   "nbconvert_exporter": "python",
   "pygments_lexer": "ipython3",
   "version": "3.11.7"
  }
 },
 "nbformat": 4,
 "nbformat_minor": 2
}
