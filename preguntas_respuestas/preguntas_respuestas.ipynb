{
 "cells": [
  {
   "cell_type": "markdown",
   "metadata": {},
   "source": [
    "# Preguntas y Respuestas\n",
    "\n",
    "\n",
    "- Reglas del Juego de \"Preguntas y Respuestas de Geografía\":\n",
    "    - El juego consiste en hacer preguntas de geografía y que el jugador adivine la respuesta correcta.\n",
    "\n",
    "    - Cada pregunta tiene una respuesta única y correcta.\n",
    "\n",
    "    - El jugador tiene un número limitado de intentos para responder correctamente a cada pregunta.\n",
    "\n",
    "    - El juego sigue hasta que el jugador responda incorrectamente 3 de veces o haya respondido 5 preguntas correctamente.\n",
    "\n",
    "\n",
    "- Pistas para las alumnas:\n",
    "\n",
    "    1. Comienza creando un diccionario que contenga preguntas de geografía como claves y respuestas como valores.\n",
    "\n",
    "    2. Implementa una función para seleccionar una pregunta aleatoria del diccionario.\n",
    "\n",
    "    3. Utiliza un bucle `while` para hacer preguntas de geografía hasta que el jugador responda un número específico de preguntas correctamente o alcance un número máximo de respuestas incorrectas.\n",
    "\n",
    "    4. Dentro del bucle, presenta la pregunta al jugador y permita que ingresen sus respuestas.\n",
    "\n",
    "    5. Lleva un seguimiento del número de preguntas realizadas y el número de respuestas correctas.\n",
    "\n",
    "    6. Determina las condiciones de victoria y derrota del juego y sal del bucle cuando se cumplan estas condiciones."
   ]
  },
  {
   "cell_type": "code",
   "execution_count": 17,
   "metadata": {},
   "outputs": [],
   "source": [
    "import random\n",
    "import os"
   ]
  },
  {
   "cell_type": "code",
   "execution_count": 5,
   "metadata": {},
   "outputs": [],
   "source": [
    "from tarea1 import tarea1 as t1\n",
    "from tarea2 import tarea2 as t2\n",
    "from tarea3 import tarea3 as t3\n",
    "from tarea4 import tarea4 as t4\n",
    "from tarea5 import tarea5 as t5"
   ]
  },
  {
   "cell_type": "code",
   "execution_count": 16,
   "metadata": {},
   "outputs": [
    {
     "name": "stdout",
     "output_type": "stream",
     "text": [
      "*** PREGUNTAS DEL EXAMEN PARA LA NACIONALIDAD ESPAÑOLA ***\n",
      "------------------------------------------------------------------------------------------------------------------------ \n",
      "\n",
      "Elige una tarea:\n",
      "                      \n",
      "                      1 - GOBIERNO, LEGISLACIÓN Y PARTICIPACIÓN CIUDADANA\n",
      "                      2 - DERECHOS Y DEBERES FUNDAMENTALES\n",
      "                      3 - ORGANIZACIÓN TERRITORIAL DE ESPAÑA - GEOGRAFÍA FÍSICA Y POLÍTICA\n",
      "                      4 - CULTURA E HISTORIA DE ESPAÑA\n",
      "                      5 - SOCIEDAD ESPAÑOLA\n",
      "\n",
      "Opción no valida, vuelve a intentarlo.\n"
     ]
    }
   ],
   "source": [
    "print(\"*** PREGUNTAS DEL EXAMEN PARA LA NACIONALIDAD ESPAÑOLA ***\")\n",
    "print(\"----\" *30,\"\\n\")\n",
    "\n",
    "numero_total_intentos = 7\n",
    "# Si tiene 4 aciertos ganas y si tienes 4 fallos pierdes.\n",
    "aciertos = 0\n",
    "errores = 0\n",
    "\n",
    "print('''Elige una tarea:\n",
    "                      \n",
    "                      1 - GOBIERNO, LEGISLACIÓN Y PARTICIPACIÓN CIUDADANA\n",
    "                      2 - DERECHOS Y DEBERES FUNDAMENTALES\n",
    "                      3 - ORGANIZACIÓN TERRITORIAL DE ESPAÑA - GEOGRAFÍA FÍSICA Y POLÍTICA\n",
    "                      4 - CULTURA E HISTORIA DE ESPAÑA\n",
    "                      5 - SOCIEDAD ESPAÑOLA''')\n",
    "\n",
    "while True:\n",
    "    \n",
    "    tarea = input(\"\\n\\nINGRESA TU OPCIÓN DEL 1 AL 5 o 'q' para salir: \").lower()\n",
    "\n",
    "    if tarea == \"1\":\n",
    "        preguntas_respuestas = t1\n",
    "    elif tarea == \"2\":\n",
    "        preguntas_respuestas = t2\n",
    "    elif tarea == \"3\":\n",
    "        preguntas_respuestas = t3\n",
    "    elif tarea == \"4\":\n",
    "        preguntas_respuestas = t4\n",
    "    elif tarea == \"5\":\n",
    "        preguntas_respuestas = t5\n",
    "    elif tarea == \"q\":\n",
    "        print(\"\\n\\n¿Pero tan pronto? ¡Hasta luego!\\n\\n\")\n",
    "        break\n",
    "    else:\n",
    "        print(\"\\nOpción no valida, vuelve a intentarlo.\")\n",
    "        break\n",
    "\n",
    "    pregunta = (random.choice(list(preguntas_respuestas.keys())))\n",
    "    print(\"\\n\\n\",pregunta)\n",
    "    print(\"----\" *30)\n",
    "\n",
    "    for clave, valor in preguntas_respuestas.items():\n",
    "        if clave == pregunta:\n",
    "            respuesta_correcta = valor[-1]\n",
    "            if tarea == \"2\":\n",
    "                respuestas = valor[:2]\n",
    "            else:\n",
    "                respuestas = valor[:3]\n",
    "            for i in respuestas:\n",
    "                print(i, end=\"\\t\\t\")\n",
    "        \n",
    "    respuesta_jugador = input(\"Cuál es la respuesta correcta? \").lower()\n",
    "\n",
    "    if respuesta_jugador in \"abc\":\n",
    "\n",
    "        if respuesta_correcta == respuesta_jugador:\n",
    "            aciertos += 1\n",
    "            numero_total_intentos -= 1\n",
    "            print(f\"\\nMuy bien, la respuesta correcta es {respuesta_correcta}. Tienes {aciertos} acierto(s).\\n\\n\")\n",
    "\n",
    "        else:\n",
    "            errores += 1\n",
    "            numero_total_intentos -=1\n",
    "            print(f\"\\nLa respuesta correcta es {respuesta_correcta}. Tienes {errores} fallo(s).\\n\\n\")\n",
    "        \n",
    "    else:\n",
    "        print(\"Opción no válida, intenta otra vez.\")\n",
    "\n",
    "    if aciertos == 3:\n",
    "        print(\"¡Enhorabuena! Ganaste el juego.\")\n",
    "        break\n",
    "    elif errores == 3:\n",
    "        print(\"Ooohhhh qué pena, perdiste. ¡No te rindas! Inténtalo de nuevo!\")\n",
    "        break\n"
   ]
  },
  {
   "cell_type": "markdown",
   "metadata": {},
   "source": [
    "Para implementar: No se puede repetir la misma pregunta en un mismo juego. "
   ]
  }
 ],
 "metadata": {
  "kernelspec": {
   "display_name": "base",
   "language": "python",
   "name": "python3"
  },
  "language_info": {
   "codemirror_mode": {
    "name": "ipython",
    "version": 3
   },
   "file_extension": ".py",
   "mimetype": "text/x-python",
   "name": "python",
   "nbconvert_exporter": "python",
   "pygments_lexer": "ipython3",
   "version": "3.11.9"
  }
 },
 "nbformat": 4,
 "nbformat_minor": 2
}
