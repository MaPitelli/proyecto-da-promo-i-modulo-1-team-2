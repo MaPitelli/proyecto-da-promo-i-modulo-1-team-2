{
 "cells": [
  {
   "cell_type": "markdown",
   "metadata": {},
   "source": [
    "# Como hemos extraído las preguntas y respuestas del PDF"
   ]
  },
  {
   "cell_type": "code",
   "execution_count": 5,
   "metadata": {},
   "outputs": [
    {
     "name": "stdout",
     "output_type": "stream",
     "text": [
      "Requirement already satisfied: PyPDF2 in /opt/anaconda3/lib/python3.11/site-packages (3.0.1)\n",
      "Note: you may need to restart the kernel to use updated packages.\n"
     ]
    }
   ],
   "source": [
    "# Instalando el módulo \n",
    "%pip install PyPDF2"
   ]
  },
  {
   "cell_type": "code",
   "execution_count": 1,
   "metadata": {},
   "outputs": [
    {
     "name": "stdout",
     "output_type": "stream",
     "text": [
      "Name: PyPDF2\n",
      "Version: 3.0.1\n",
      "Summary: A pure-python PDF library capable of splitting, merging, cropping, and transforming PDF files\n",
      "Home-page: \n",
      "Author: \n",
      "Author-email: Mathieu Fenniak <biziqe@mathieu.fenniak.net>\n",
      "License: \n",
      "Location: /opt/anaconda3/lib/python3.11/site-packages\n",
      "Requires: \n",
      "Required-by: \n",
      "Note: you may need to restart the kernel to use updated packages.\n"
     ]
    }
   ],
   "source": [
    "# Enseñando que el módulo se ha instalado correctamente\n",
    "%pip show PyPDF2\n"
   ]
  },
  {
   "cell_type": "code",
   "execution_count": 2,
   "metadata": {},
   "outputs": [],
   "source": [
    "# Paso 1 - importamos los módulos que vamos a usar.\n",
    "from PyPDF2 import PdfReader\n",
    "import json # Usamos el módulo json para formatear el diccionario a la hora de guardarlo en un archivo .py\n"
   ]
  },
  {
   "cell_type": "code",
   "execution_count": 26,
   "metadata": {},
   "outputs": [],
   "source": [
    "# Paso 2 - Crear el diccionario de la tarea en el archivo .py \n",
    "\n",
    "# Abrimos el archivo PDF\n",
    "with open('Manual_copy_5.pdf', 'rb') as file: #                         >>> Elegir el archivo que quiero extraer\n",
    "    reader = PdfReader(file)\n",
    "    \n",
    "    # Extraer el número de páginas\n",
    "    num_pages = len(reader.pages)\n",
    "    \n",
    "    # Extraer el texto de cada página\n",
    "    text = \"\"\n",
    "    for i in range(num_pages):\n",
    "        page = reader.pages[i]\n",
    "        text += page.extract_text()\n",
    "\n",
    "    preg_resp_diccio = {}\n",
    "    lista_indices_preg = []\n",
    "    for i in range(5001, 5086): #                                        >>> Actualizar las páginas según los IDs de las preguntas de la tarea correspondiente (el rango final + 2)\n",
    "        indice_pregunta = text.find(str(i))\n",
    "        lista_indices_preg.append(indice_pregunta)\n",
    "\n",
    "    counter = 0\n",
    "    perguntas = []\n",
    "    for i in lista_indices_preg:\n",
    "        try:\n",
    "            counter+=1\n",
    "            indice_final = lista_indices_preg[counter]\n",
    "            pregunta = text[i:indice_final]\n",
    "            perguntas.append(pregunta)\n",
    "        except IndexError as e:\n",
    "            pass\n",
    "    \n",
    "    counter = 0\n",
    "    for i in perguntas:\n",
    "        try:\n",
    "            preg_limpia = i.strip()   \n",
    "            perguntas[counter] = preg_limpia[5:]\n",
    "            counter+=1\n",
    "        except IndexError as e:\n",
    "            pass\n",
    "    \n",
    "    for i in perguntas:\n",
    "        indice_resp = i.find(\"a)\")\n",
    "        preguntas = i[:indice_resp]\n",
    "        respuestas = i[indice_resp:-1].replace(\".\", \",\")\n",
    "        if respuestas.endswith(\", 1\") or respuestas.endswith(\", 2\"):\n",
    "            respuestas = respuestas[:-3]\n",
    "        respuestas += \",\"\n",
    "        soluciones = perguntas[-1]\n",
    "        preg_resp_diccio[preguntas] = respuestas.split(\",\")\n",
    "\n",
    "    # print(soluciones)\n",
    "\n",
    "    solucciones = []\n",
    "    for i in range(5001, 5085): #                                               >>> Actualizar las páginas según los IDs de las preguntas de la tarea correspondiente (el rango final + 1)\n",
    "        indice_solucc = soluciones.find(str(i))\n",
    "        solucciones.append(soluciones[indice_solucc+5])\n",
    "\n",
    "    # print(solucciones)\n",
    "\n",
    "    counter = 0\n",
    "    for valor in preg_resp_diccio.values():\n",
    "        valor[-1] = solucciones[counter]\n",
    "        counter +=1\n",
    "            \n",
    "    # print(preg_resp_diccio)                                                   >>> Diccionario final en formato correcto.\n",
    "\n",
    "    # Código para guardar el dict en un archivo .py\n",
    "    file_path = \"tarea5.py\" #                                                   >>> Al cambiar de archivo hay que cambiar el número de la tarea\n",
    "    with open(file_path, \"w\") as file:\n",
    "        json_str = json.dumps(preg_resp_diccio, indent=4, ensure_ascii=False)\n",
    "        file.write(\"tarea5 = \" + json_str) #                                    >>> Al cambiar de archivo hay que cambiar el número de la tarea\n",
    "\n",
    "    # NOTA: Para guardar el archivo sin que esté formateado con json:\n",
    "    # file_path = \"tarea1.py\"\n",
    "    # with open(file_path, \"w\") as file:\n",
    "    #     file.write(\"tarea1 = \" + str(preg_resp_diccio))\n",
    "\n"
   ]
  }
 ],
 "metadata": {
  "kernelspec": {
   "display_name": "base",
   "language": "python",
   "name": "python3"
  },
  "language_info": {
   "codemirror_mode": {
    "name": "ipython",
    "version": 3
   },
   "file_extension": ".py",
   "mimetype": "text/x-python",
   "name": "python",
   "nbconvert_exporter": "python",
   "pygments_lexer": "ipython3",
   "version": "3.11.9"
  }
 },
 "nbformat": 4,
 "nbformat_minor": 2
}
