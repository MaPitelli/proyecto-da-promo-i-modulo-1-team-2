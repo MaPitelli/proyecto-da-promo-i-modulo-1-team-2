{
 "cells": [
  {
   "cell_type": "markdown",
   "metadata": {},
   "source": []
  },
  {
   "cell_type": "markdown",
   "metadata": {},
   "source": [
    "# Piedra ✊ Papel 🖐️ & Tijera ✌️\n",
    "\n",
    "- Reglas del Juego \"Piedra, Papel y Tijera\":\n",
    "\n",
    "    - Dos jugadores eligen una de las tres opciones: \"Piedra\", \"Papel\" o \"Tijera\".\n",
    "\n",
    "    - Las reglas para determinar al ganador son:\n",
    "        \n",
    "        - Piedra vence a Tijera.\n",
    "\n",
    "        - Tijera vence a Papel.\n",
    "\n",
    "        - Papel vence a Piedra.\n",
    "\n",
    "        - El jugador que gana una ronda obtiene un punto.\n",
    "        \n",
    "        - El juego continúa hasta que un jugador haya acumulado 3 puntos, convirtiéndose en el ganador.\n",
    "\n",
    "\n",
    "- Pistas para las alumnas:\n",
    "\n",
    "    1. Comienza por definir el número de puntos objetivo que se deben alcanzar para ganar el juego.\n",
    "\n",
    "    2. Implementa una función que obtenga la elección del jugador y valide que sea una de las opciones válidas (\"Piedra\", \"Papel\" o \"Tijera\").\n",
    "\n",
    "    3. Utiliza un bucle `while` para llevar un registro de los puntos de cada jugador y continuar el juego hasta que se alcance el número de puntos objetivo.\n",
    "\n",
    "    4. Genera una elección aleatoria para el segundo jugador (la computadora) utilizando el módulo `random`.\n",
    "\n",
    "    5. Determina al ganador de cada ronda y actualiza los puntos correspondientes.\n",
    "\n",
    "    6. Verifica si algún jugador ha alcanzado el número de puntos objetivo y finalicen el juego cuando eso suceda.\n",
    "\n",
    "\n",
    "\n",
    "\n"
   ]
  },
  {
   "cell_type": "code",
   "execution_count": 29,
   "metadata": {},
   "outputs": [
    {
     "name": "stdout",
     "output_type": "stream",
     "text": [
      "No has elegido opción correcta\n"
     ]
    }
   ],
   "source": [
    "import random\n",
    "#El jugador elije su opción\n",
    "jugador = input(\"introduce 1 si quieres piedra \\U0001F91B, 2 si quieres papel \\U0001F590,\\n 3 si quieres tijera \\U0000270C\")\n",
    "#Cambiamos el valor de la variable de la elección del jugador (1, 2, 3) a (piedra, papel, tijera)\n",
    "if jugador == \"1\":\n",
    "    jugador = \"piedra\"\n",
    "elif jugador == \"2\":\n",
    "    jugador = \"papel\"\n",
    "elif jugador == \"3\":\n",
    "    jugador = \"tijera\"\n",
    "else:\n",
    "    print(\"No has elegido opción correcta\")\n",
    "#La maquina elige su opción de forma aleatoria\n",
    "maquina = (\"piedra\", \"papel\", \"tijera\")\n",
    "jugada_maquina = random.choice(maquina)\n",
    "#Hacemos las comparativas para ver quien ha ganado\n",
    "#Las opciones donde el jugador gana:\n",
    "if (jugada_maquina == \"piedra\" and jugador == \"papel\") or (jugada_maquina == \"papel\" and jugador == \"tijera\") or (jugada_maquina == \"tijera\" and jugador == \"piedra\"):\n",
    "    print(\"el jugador ha sacado\",jugador, \"y la máquina\", jugada_maquina,\"ha ganado el jugador\")          \n",
    "#Las opciones donde la máquina gana:\n",
    "if (jugada_maquina == \"piedra\" and jugador == \"tijera\") or (jugada_maquina == \"papel\" and jugador == \"tijera\") or (jugada_maquina == \"tijera\" and jugador == \"papel\"):     \n",
    "    print(\"el jugador ha sacado\",jugador, \"y la máquina\", jugada_maquina,\"ha ganado la máquina \\U0001F47E\")\n",
    "#Las opciones donde la máquina y el jugador empatan:\n",
    "if (jugada_maquina == \"piedra\" and jugador == \"piedra\") or (jugada_maquina == \"papel\" and jugador == \"papel\") or (jugada_maquina == \"tijera\" and jugador == \"tijera\"):\n",
    "    print(\"el jugador ha sacado\",jugador, \"y la máquina\", jugada_maquina,\"empate\")"
   ]
  }
 ],
 "metadata": {
  "kernelspec": {
   "display_name": "base",
   "language": "python",
   "name": "python3"
  },
  "language_info": {
   "codemirror_mode": {
    "name": "ipython",
    "version": 3
   },
   "file_extension": ".py",
   "mimetype": "text/x-python",
   "name": "python",
   "nbconvert_exporter": "python",
   "pygments_lexer": "ipython3",
   "version": "3.11.7"
  }
 },
 "nbformat": 4,
 "nbformat_minor": 2
}
