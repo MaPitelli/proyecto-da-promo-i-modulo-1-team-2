{
 "cells": [
  {
   "cell_type": "code",
   "execution_count": 29,
   "metadata": {},
   "outputs": [
    {
     "name": "stdout",
     "output_type": "stream",
     "text": [
      "No has elegido opción correcta\n"
     ]
    }
   ],
   "source": [
    "import random\n",
    "#El jugador elije su opción\n",
    "jugador = input(\"introduce 1 si quieres piedra \\U0001F91B, 2 si quieres papel \\U0001F590,\\n 3 si quieres tijera \\U0000270C\")\n",
    "#Cambiamos el valor de la variable de la elección del jugador (1, 2, 3) a (piedra, papel, tijera)\n",
    "if jugador == \"1\":\n",
    "    jugador = \"piedra\"\n",
    "elif jugador == \"2\":\n",
    "    jugador = \"papel\"\n",
    "elif jugador == \"3\":\n",
    "    jugador = \"tijera\"\n",
    "else:\n",
    "    print(\"No has elegido opción correcta\")\n",
    "#La maquina elige su opción de forma aleatoria\n",
    "maquina = (\"piedra\", \"papel\", \"tijera\")\n",
    "jugada_maquina = random.choice(maquina)\n",
    "#Hacemos las comparativas para ver quien ha ganado\n",
    "#Las opciones donde el jugador gana:\n",
    "if (jugada_maquina == \"piedra\" and jugador == \"papel\") or (jugada_maquina == \"papel\" and jugador == \"tijera\") or (jugada_maquina == \"tijera\" and jugador == \"piedra\"):\n",
    "    print(\"el jugador ha sacado\",jugador, \"y la máquina\", jugada_maquina,\"ha ganado el jugador\")          \n",
    "#Las opciones donde la máquina gana:\n",
    "if (jugada_maquina == \"piedra\" and jugador == \"tijera\") or (jugada_maquina == \"papel\" and jugador == \"tijera\") or (jugada_maquina == \"tijera\" and jugador == \"papel\"):     \n",
    "    print(\"el jugador ha sacado\",jugador, \"y la máquina\", jugada_maquina,\"ha ganado la máquina \\U0001F47E\")\n",
    "#Las opciones donde la máquina y el jugador empatan:\n",
    "if (jugada_maquina == \"piedra\" and jugador == \"piedra\") or (jugada_maquina == \"papel\" and jugador == \"papel\") or (jugada_maquina == \"tijera\" and jugador == \"tijera\"):\n",
    "    print(\"el jugador ha sacado\",jugador, \"y la máquina\", jugada_maquina,\"empate\")"
   ]
  }
 ],
 "metadata": {
  "kernelspec": {
   "display_name": "base",
   "language": "python",
   "name": "python3"
  },
  "language_info": {
   "codemirror_mode": {
    "name": "ipython",
    "version": 3
   },
   "file_extension": ".py",
   "mimetype": "text/x-python",
   "name": "python",
   "nbconvert_exporter": "python",
   "pygments_lexer": "ipython3",
   "version": "3.11.7"
  }
 },
 "nbformat": 4,
 "nbformat_minor": 2
}
