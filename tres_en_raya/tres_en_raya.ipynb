{
 "cells": [
  {
   "cell_type": "markdown",
   "metadata": {},
   "source": [
    "# Tic Tac Toe\n",
    "\n",
    "- Reglas del Juego \"Tic-Tac-Toe\":\n",
    "\n",
    "    - El juego se juega en un tablero de 3x3.\n",
    "\n",
    "    - Dos jugadores, uno representa \"X\" y el otro \"O\", alternan turnos.\n",
    "\n",
    "    - El objetivo es obtener tres símbolos del mismo tipo en línea horizontal, vertical o diagonal.\n",
    "\n",
    "    - El juego termina cuando un jugador gana o el tablero se llena (empate).\n",
    "\n",
    "    - El jugador que logre colocar tres de sus símbolos en línea es el ganador.\n",
    "\n",
    "\n",
    "- Pistas para las alumnas:\n",
    "\n",
    "    1. Comienza creando una representación del tablero de juego utilizando una lista de listas para mantener un seguimiento de las jugadas.\n",
    "\n",
    "    2. Implementa una función para imprimir el tablero en la pantalla en un formato claro y legible.\n",
    "\n",
    "    3. Utiliza un bucle `while` para alternar los turnos de los jugadores y recopilar sus movimientos.\n",
    "\n",
    "    4. Verifica después de cada movimiento si hay un ganador o si el juego termina en empate.\n",
    "\n",
    "    5. Implementa una función que verifique si un jugador ha ganado alineando tres símbolos en fila, columna o diagonal.\n",
    "\n",
    "    6. Asegurate de validar que una casilla seleccionada por un jugador no esté ocupada antes de permitir el movimiento.\n"
   ]
  },
  {
   "cell_type": "code",
   "execution_count": 1,
   "metadata": {},
   "outputs": [],
   "source": [
    "import random"
   ]
  },
  {
   "cell_type": "code",
   "execution_count": 2,
   "metadata": {},
   "outputs": [],
   "source": [
    "tablero_vacio = '''   |   |  \n",
    "---+---+---\n",
    "   |   |  \n",
    "---+---+---\n",
    "   |   |   '''\n",
    "\n",
    "tablero_lleno = ''' 1 | 2 | 3\n",
    "---+---+---\n",
    " 4 | 5 | 6\n",
    "---+---+---\n",
    " 7 | 8 | 9 '''"
   ]
  },
  {
   "cell_type": "code",
   "execution_count": 4,
   "metadata": {},
   "outputs": [
    {
     "name": "stdout",
     "output_type": "stream",
     "text": [
      "   |   |  \n",
      "---+---+---\n",
      "   |   |  \n",
      "---+---+---\n",
      "   |   |   \n"
     ]
    }
   ],
   "source": [
    "print(tablero_vacio)"
   ]
  },
  {
   "cell_type": "code",
   "execution_count": 5,
   "metadata": {},
   "outputs": [
    {
     "name": "stdout",
     "output_type": "stream",
     "text": [
      " 1 | 2 | 3\n",
      "---+---+---\n",
      " 4 | 5 | 6\n",
      "---+---+---\n",
      " 7 | 8 | 9 \n"
     ]
    }
   ],
   "source": [
    "print(tablero_lleno)\n"
   ]
  },
  {
   "cell_type": "code",
   "execution_count": 7,
   "metadata": {},
   "outputs": [
    {
     "name": "stdout",
     "output_type": "stream",
     "text": [
      "   |   |  \n",
      "---+---+---\n",
      "   |   |  \n",
      "---+---+---\n",
      "   |   |   \n"
     ]
    }
   ],
   "source": [
    "# Quién empieza el juego? La máquina o el jugador? \n",
    "# Quién es la \"o\" y quién es la \"x\"?\n",
    "print(tablero_vacio)\n",
    "jugador = input(\"Dime en qué casilla del 1 al 9 quieres poner tu 'x'\")\n"
   ]
  },
  {
   "cell_type": "code",
   "execution_count": 10,
   "metadata": {},
   "outputs": [
    {
     "data": {
      "text/plain": [
       "1"
      ]
     },
     "execution_count": 10,
     "metadata": {},
     "output_type": "execute_result"
    }
   ],
   "source": [
    "indice = tablero_lleno.index(\"1\")\n",
    "indice"
   ]
  },
  {
   "cell_type": "code",
   "execution_count": 12,
   "metadata": {},
   "outputs": [
    {
     "data": {
      "text/plain": [
       "'1'"
      ]
     },
     "execution_count": 12,
     "metadata": {},
     "output_type": "execute_result"
    }
   ],
   "source": [
    "tablero_lleno[1]"
   ]
  },
  {
   "cell_type": "code",
   "execution_count": 14,
   "metadata": {},
   "outputs": [
    {
     "name": "stdout",
     "output_type": "stream",
     "text": [
      " x |   |  \n",
      "---+---+---\n",
      "   |   |  \n",
      "---+---+---\n",
      "   |   |   \n"
     ]
    }
   ],
   "source": [
    "tablero_vacio = tablero_vacio[:indice] + \"x\" + tablero_vacio[indice+1:]\n",
    "\n",
    "print(tablero_vacio)"
   ]
  },
  {
   "cell_type": "code",
   "execution_count": null,
   "metadata": {},
   "outputs": [],
   "source": []
  }
 ],
 "metadata": {
  "kernelspec": {
   "display_name": "base",
   "language": "python",
   "name": "python3"
  },
  "language_info": {
   "codemirror_mode": {
    "name": "ipython",
    "version": 3
   },
   "file_extension": ".py",
   "mimetype": "text/x-python",
   "name": "python",
   "nbconvert_exporter": "python",
   "pygments_lexer": "ipython3",
   "version": "3.11.7"
  }
 },
 "nbformat": 4,
 "nbformat_minor": 2
}
